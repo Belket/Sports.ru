{
 "cells": [
  {
   "cell_type": "markdown",
   "metadata": {},
   "source": [
    "### Задание\n",
    "Проанализировать массив данных при помощи языка Python (допускается и рекомендуется использование дополнительных библиотек).\n",
    "1. Для числовых значений как для всего массива в целом, так и для каждого типа контента (столбец Type) в отдельности вычислить:\n",
    " * вычисление среднего\n",
    " * максимального/минимального значений\n",
    " * медианы\n",
    " * моды  \n",
    "2. Найти самый популярный объект в выборке, объяснить почему.\n"
   ]
  },
  {
   "cell_type": "code",
   "execution_count": 1,
   "metadata": {
    "collapsed": true
   },
   "outputs": [],
   "source": [
    "import pandas as pd\n",
    "from scipy import stats\n",
    "import numpy as np\n",
    "from sklearn.preprocessing import LabelEncoder\n",
    "from statistics import median\n",
    "from sklearn.preprocessing import MinMaxScaler"
   ]
  },
  {
   "cell_type": "markdown",
   "metadata": {},
   "source": [
    "Загрузим необходимый dataset, определим его размер, просмотрим атрибуты и проанализируем данные"
   ]
  },
  {
   "cell_type": "markdown",
   "metadata": {},
   "source": [
    "### Подготовка данных"
   ]
  },
  {
   "cell_type": "code",
   "execution_count": 2,
   "metadata": {
    "collapsed": true
   },
   "outputs": [],
   "source": [
    "df = pd.read_csv('dataset_Facebook.csv', sep=';')"
   ]
  },
  {
   "cell_type": "code",
   "execution_count": 3,
   "metadata": {},
   "outputs": [
    {
     "name": "stdout",
     "output_type": "stream",
     "text": [
      "Размер: (500, 19)\n",
      "Атрибуты: \n",
      " Index(['Page total likes', 'Type', 'Category', 'Post Month', 'Post Weekday',\n",
      "       'Post Hour', 'Paid', 'Lifetime Post Total Reach',\n",
      "       'Lifetime Post Total Impressions', 'Lifetime Engaged Users',\n",
      "       'Lifetime Post Consumers', 'Lifetime Post Consumptions',\n",
      "       'Lifetime Post Impressions by people who have liked your Page',\n",
      "       'Lifetime Post reach by people who like your Page',\n",
      "       'Lifetime People who have liked your Page and engaged with your post',\n",
      "       'comment', 'like', 'share', 'Total Interactions'],\n",
      "      dtype='object')\n"
     ]
    }
   ],
   "source": [
    "print('Размер:', df.shape)\n",
    "print('Атрибуты: \\n', df.columns)"
   ]
  },
  {
   "cell_type": "markdown",
   "metadata": {},
   "source": [
    "Проверим Dataframe на наличие неопределенных значений и в случае их наличия проинициализируем их нулями"
   ]
  },
  {
   "cell_type": "code",
   "execution_count": 4,
   "metadata": {},
   "outputs": [
    {
     "name": "stdout",
     "output_type": "stream",
     "text": [
      "Page total likes                                                       0\n",
      "Type                                                                   0\n",
      "Category                                                               0\n",
      "Post Month                                                             0\n",
      "Post Weekday                                                           0\n",
      "Post Hour                                                              0\n",
      "Paid                                                                   1\n",
      "Lifetime Post Total Reach                                              0\n",
      "Lifetime Post Total Impressions                                        0\n",
      "Lifetime Engaged Users                                                 0\n",
      "Lifetime Post Consumers                                                0\n",
      "Lifetime Post Consumptions                                             0\n",
      "Lifetime Post Impressions by people who have liked your Page           0\n",
      "Lifetime Post reach by people who like your Page                       0\n",
      "Lifetime People who have liked your Page and engaged with your post    0\n",
      "comment                                                                0\n",
      "like                                                                   1\n",
      "share                                                                  4\n",
      "Total Interactions                                                     0\n",
      "dtype: int64\n",
      " ********* Данные после обработки **********\n",
      "Page total likes                                                       0\n",
      "Type                                                                   0\n",
      "Category                                                               0\n",
      "Post Month                                                             0\n",
      "Post Weekday                                                           0\n",
      "Post Hour                                                              0\n",
      "Paid                                                                   0\n",
      "Lifetime Post Total Reach                                              0\n",
      "Lifetime Post Total Impressions                                        0\n",
      "Lifetime Engaged Users                                                 0\n",
      "Lifetime Post Consumers                                                0\n",
      "Lifetime Post Consumptions                                             0\n",
      "Lifetime Post Impressions by people who have liked your Page           0\n",
      "Lifetime Post reach by people who like your Page                       0\n",
      "Lifetime People who have liked your Page and engaged with your post    0\n",
      "comment                                                                0\n",
      "like                                                                   0\n",
      "share                                                                  0\n",
      "Total Interactions                                                     0\n",
      "dtype: int64\n"
     ]
    }
   ],
   "source": [
    "print(df.isnull().sum())\n",
    "if df.isnull().values.any:\n",
    "    df.fillna(0, inplace=True)\n",
    "    print(' ********* Данные после обработки **********')\n",
    "    print(df.isnull().sum())"
   ]
  },
  {
   "cell_type": "markdown",
   "metadata": {},
   "source": [
    "### Произведем вычисление необходимых параметров"
   ]
  },
  {
   "cell_type": "markdown",
   "metadata": {},
   "source": [
    "Так как необходимо вычислить парметры всех признаков, в том числе столбца Type, который является категориальным, нам необходимо сопоставить каждый тип с числом, сделаем это с помощью LabelEncoder.  \n",
    "Следует учесть, что для обучения на данных лучше использовать другие способы кодирования, например dummy-кодирование, так как этот способ сильно упрощает данные, просто проецируя категориальный признак на вещественную прямую  \n",
    "Зададим словарь для кодировки вручную, сразу же посмотрим, какие типы у нас имеются и в будущем сможем легко перевести закодированный параметр обратно"
   ]
  },
  {
   "cell_type": "code",
   "execution_count": 5,
   "metadata": {},
   "outputs": [
    {
     "name": "stdout",
     "output_type": "stream",
     "text": [
      "Закодированные категориальные признаки {'Link': 1, 'Photo': 2, 'Status': 3, 'Video': 4}\n"
     ]
    }
   ],
   "source": [
    "categories_dict = {}\n",
    "categories = list(np.unique(df.Type))\n",
    "for index, value in enumerate(categories):\n",
    "    categories_dict.update({value: index + 1})\n",
    "print('Закодированные категориальные признаки', categories_dict)\n"
   ]
  },
  {
   "cell_type": "code",
   "execution_count": 6,
   "metadata": {},
   "outputs": [],
   "source": [
    "# Функция для получения типа поста по значению\n",
    "def get_Type(value):\n",
    "    value = int(value)\n",
    "    for category, v in categories_dict.items():\n",
    "        if v == value:\n",
    "            return category"
   ]
  },
  {
   "cell_type": "code",
   "execution_count": 7,
   "metadata": {
    "collapsed": true
   },
   "outputs": [],
   "source": [
    "label_encoder = LabelEncoder()\n",
    "label_encoder.fit(df.Type)\n",
    "df['Type_encoded'] = df['Type'].map(categories_dict)\n",
    "df.drop(['Type'], axis=1, inplace=True)"
   ]
  },
  {
   "cell_type": "markdown",
   "metadata": {},
   "source": [
    "Разработаем функцию для вычисления всех необходимых параметров каждого столбца, которая будет принимать на вход текущий столбец и возвращать его характеристики"
   ]
  },
  {
   "cell_type": "code",
   "execution_count": 8,
   "metadata": {
    "collapsed": true
   },
   "outputs": [],
   "source": [
    "def analize_column(column):\n",
    "    results = {}\n",
    "    results.update({'mean': np.mean(column)}) \n",
    "    results.update({'min': np.min(column)}) \n",
    "    results.update({'max': np.max(column)}) \n",
    "    results.update({'median': median(column)}) \n",
    "    results.update({'mode' : list(stats.mode(column).mode)[0]})\n",
    "    return results"
   ]
  },
  {
   "cell_type": "markdown",
   "metadata": {},
   "source": [
    "Создадим новый Dataframe, который будем использовать для наглядной демонстрации полученных результатов"
   ]
  },
  {
   "cell_type": "code",
   "execution_count": 9,
   "metadata": {
    "collapsed": true
   },
   "outputs": [],
   "source": [
    "result_df = pd.DataFrame(columns=df.columns, index=['mean', 'min', 'max', 'mode', 'median'])"
   ]
  },
  {
   "cell_type": "markdown",
   "metadata": {},
   "source": [
    "Проведем подсчет характеристик"
   ]
  },
  {
   "cell_type": "code",
   "execution_count": 10,
   "metadata": {
    "collapsed": true
   },
   "outputs": [],
   "source": [
    "for attribute in df.columns:\n",
    "    result = analize_column(df[attribute])\n",
    "    for parameter in result_df.index:\n",
    "        result_df.loc[parameter][attribute] = result.get(parameter)"
   ]
  },
  {
   "cell_type": "markdown",
   "metadata": {},
   "source": [
    "Получаем Dataframe со всеми необходимыми параметрами"
   ]
  },
  {
   "cell_type": "code",
   "execution_count": 11,
   "metadata": {},
   "outputs": [
    {
     "data": {
      "text/html": [
       "<div>\n",
       "<style>\n",
       "    .dataframe thead tr:only-child th {\n",
       "        text-align: right;\n",
       "    }\n",
       "\n",
       "    .dataframe thead th {\n",
       "        text-align: left;\n",
       "    }\n",
       "\n",
       "    .dataframe tbody tr th {\n",
       "        vertical-align: top;\n",
       "    }\n",
       "</style>\n",
       "<table border=\"1\" class=\"dataframe\">\n",
       "  <thead>\n",
       "    <tr style=\"text-align: right;\">\n",
       "      <th></th>\n",
       "      <th>Page total likes</th>\n",
       "      <th>Category</th>\n",
       "      <th>Post Month</th>\n",
       "      <th>Post Weekday</th>\n",
       "      <th>Post Hour</th>\n",
       "      <th>Paid</th>\n",
       "      <th>Lifetime Post Total Reach</th>\n",
       "      <th>Lifetime Post Total Impressions</th>\n",
       "      <th>Lifetime Engaged Users</th>\n",
       "      <th>Lifetime Post Consumers</th>\n",
       "      <th>Lifetime Post Consumptions</th>\n",
       "      <th>Lifetime Post Impressions by people who have liked your Page</th>\n",
       "      <th>Lifetime Post reach by people who like your Page</th>\n",
       "      <th>Lifetime People who have liked your Page and engaged with your post</th>\n",
       "      <th>comment</th>\n",
       "      <th>like</th>\n",
       "      <th>share</th>\n",
       "      <th>Total Interactions</th>\n",
       "      <th>Type_encoded</th>\n",
       "    </tr>\n",
       "  </thead>\n",
       "  <tbody>\n",
       "    <tr>\n",
       "      <th>mean</th>\n",
       "      <td>123194</td>\n",
       "      <td>1.88</td>\n",
       "      <td>7.038</td>\n",
       "      <td>4.15</td>\n",
       "      <td>7.84</td>\n",
       "      <td>0.278</td>\n",
       "      <td>13903.4</td>\n",
       "      <td>29585.9</td>\n",
       "      <td>920.344</td>\n",
       "      <td>798.772</td>\n",
       "      <td>1415.13</td>\n",
       "      <td>16766.4</td>\n",
       "      <td>6585.49</td>\n",
       "      <td>609.986</td>\n",
       "      <td>7.482</td>\n",
       "      <td>177.59</td>\n",
       "      <td>27.048</td>\n",
       "      <td>212.12</td>\n",
       "      <td>2.074</td>\n",
       "    </tr>\n",
       "    <tr>\n",
       "      <th>min</th>\n",
       "      <td>81370</td>\n",
       "      <td>1</td>\n",
       "      <td>1</td>\n",
       "      <td>1</td>\n",
       "      <td>1</td>\n",
       "      <td>0</td>\n",
       "      <td>238</td>\n",
       "      <td>570</td>\n",
       "      <td>9</td>\n",
       "      <td>9</td>\n",
       "      <td>9</td>\n",
       "      <td>567</td>\n",
       "      <td>236</td>\n",
       "      <td>9</td>\n",
       "      <td>0</td>\n",
       "      <td>0</td>\n",
       "      <td>0</td>\n",
       "      <td>0</td>\n",
       "      <td>1</td>\n",
       "    </tr>\n",
       "    <tr>\n",
       "      <th>max</th>\n",
       "      <td>139441</td>\n",
       "      <td>3</td>\n",
       "      <td>12</td>\n",
       "      <td>7</td>\n",
       "      <td>23</td>\n",
       "      <td>1</td>\n",
       "      <td>180480</td>\n",
       "      <td>1110282</td>\n",
       "      <td>11452</td>\n",
       "      <td>11328</td>\n",
       "      <td>19779</td>\n",
       "      <td>1107833</td>\n",
       "      <td>51456</td>\n",
       "      <td>4376</td>\n",
       "      <td>372</td>\n",
       "      <td>5172</td>\n",
       "      <td>790</td>\n",
       "      <td>6334</td>\n",
       "      <td>4</td>\n",
       "    </tr>\n",
       "    <tr>\n",
       "      <th>mode</th>\n",
       "      <td>136393</td>\n",
       "      <td>1</td>\n",
       "      <td>10</td>\n",
       "      <td>7</td>\n",
       "      <td>3</td>\n",
       "      <td>0</td>\n",
       "      <td>677</td>\n",
       "      <td>4372</td>\n",
       "      <td>537</td>\n",
       "      <td>182</td>\n",
       "      <td>431</td>\n",
       "      <td>1210</td>\n",
       "      <td>690</td>\n",
       "      <td>403</td>\n",
       "      <td>0</td>\n",
       "      <td>98</td>\n",
       "      <td>13</td>\n",
       "      <td>0</td>\n",
       "      <td>2</td>\n",
       "    </tr>\n",
       "    <tr>\n",
       "      <th>median</th>\n",
       "      <td>129600</td>\n",
       "      <td>2</td>\n",
       "      <td>7</td>\n",
       "      <td>4</td>\n",
       "      <td>9</td>\n",
       "      <td>0</td>\n",
       "      <td>5281</td>\n",
       "      <td>9051</td>\n",
       "      <td>625.5</td>\n",
       "      <td>551.5</td>\n",
       "      <td>851</td>\n",
       "      <td>6255.5</td>\n",
       "      <td>3417</td>\n",
       "      <td>412</td>\n",
       "      <td>3</td>\n",
       "      <td>101</td>\n",
       "      <td>19</td>\n",
       "      <td>123.5</td>\n",
       "      <td>2</td>\n",
       "    </tr>\n",
       "  </tbody>\n",
       "</table>\n",
       "</div>"
      ],
      "text/plain": [
       "       Page total likes Category Post Month Post Weekday Post Hour   Paid  \\\n",
       "mean             123194     1.88      7.038         4.15      7.84  0.278   \n",
       "min               81370        1          1            1         1      0   \n",
       "max              139441        3         12            7        23      1   \n",
       "mode             136393        1         10            7         3      0   \n",
       "median           129600        2          7            4         9      0   \n",
       "\n",
       "       Lifetime Post Total Reach Lifetime Post Total Impressions  \\\n",
       "mean                     13903.4                         29585.9   \n",
       "min                          238                             570   \n",
       "max                       180480                         1110282   \n",
       "mode                         677                            4372   \n",
       "median                      5281                            9051   \n",
       "\n",
       "       Lifetime Engaged Users Lifetime Post Consumers  \\\n",
       "mean                  920.344                 798.772   \n",
       "min                         9                       9   \n",
       "max                     11452                   11328   \n",
       "mode                      537                     182   \n",
       "median                  625.5                   551.5   \n",
       "\n",
       "       Lifetime Post Consumptions  \\\n",
       "mean                      1415.13   \n",
       "min                             9   \n",
       "max                         19779   \n",
       "mode                          431   \n",
       "median                        851   \n",
       "\n",
       "       Lifetime Post Impressions by people who have liked your Page  \\\n",
       "mean                                              16766.4             \n",
       "min                                                   567             \n",
       "max                                               1107833             \n",
       "mode                                                 1210             \n",
       "median                                             6255.5             \n",
       "\n",
       "       Lifetime Post reach by people who like your Page  \\\n",
       "mean                                            6585.49   \n",
       "min                                                 236   \n",
       "max                                               51456   \n",
       "mode                                                690   \n",
       "median                                             3417   \n",
       "\n",
       "       Lifetime People who have liked your Page and engaged with your post  \\\n",
       "mean                                              609.986                    \n",
       "min                                                     9                    \n",
       "max                                                  4376                    \n",
       "mode                                                  403                    \n",
       "median                                                412                    \n",
       "\n",
       "       comment    like   share Total Interactions Type_encoded  \n",
       "mean     7.482  177.59  27.048             212.12        2.074  \n",
       "min          0       0       0                  0            1  \n",
       "max        372    5172     790               6334            4  \n",
       "mode         0      98      13                  0            2  \n",
       "median       3     101      19              123.5            2  "
      ]
     },
     "execution_count": 11,
     "metadata": {},
     "output_type": "execute_result"
    }
   ],
   "source": [
    "result_df"
   ]
  },
  {
   "cell_type": "markdown",
   "metadata": {},
   "source": [
    "Теперь вычислим все необходимые параметры для всего массива данных"
   ]
  },
  {
   "cell_type": "code",
   "execution_count": 12,
   "metadata": {},
   "outputs": [
    {
     "name": "stdout",
     "output_type": "stream",
     "text": [
      "Все данные собраны в список\n"
     ]
    }
   ],
   "source": [
    "values_list = []\n",
    "for attribute in df.columns:\n",
    "    values_list += list(df[attribute].values)\n",
    "if df.shape[0] * df.shape[1] == len(values_list):\n",
    "    print(\"Все данные собраны в список\")\n",
    "else: \n",
    "    print(\"Количество данных в списке и в Dataframe не совпадают\")"
   ]
  },
  {
   "cell_type": "code",
   "execution_count": 13,
   "metadata": {},
   "outputs": [
    {
     "name": "stdout",
     "output_type": "stream",
     "text": [
      "Характеристики по всему Dataframe\n"
     ]
    },
    {
     "data": {
      "text/plain": [
       "{'max': '1110282.00',\n",
       " 'mean': '10222.48',\n",
       " 'median': '155.50',\n",
       " 'min': '0.00',\n",
       " 'mode': '2.00'}"
      ]
     },
     "execution_count": 13,
     "metadata": {},
     "output_type": "execute_result"
    }
   ],
   "source": [
    "print('Характеристики по всему Dataframe')\n",
    "result_df_parameters = {\n",
    "    'mean': format(\"%.2f\" % np.mean(values_list)),\n",
    "    'min': format(\"%.2f\" % np.min(values_list)),\n",
    "    'max': format(\"%.2f\" % np.max(values_list)),\n",
    "    'median': format(\"%.2f\" % median(values_list)),\n",
    "    'mode': format(\"%.2f\" % list(stats.mode(values_list).mode)[0])\n",
    "}\n",
    "result_df_parameters"
   ]
  },
  {
   "cell_type": "markdown",
   "metadata": {},
   "source": [
    "### Найдем самый популярный объект в выборке"
   ]
  },
  {
   "cell_type": "code",
   "execution_count": 14,
   "metadata": {},
   "outputs": [
    {
     "data": {
      "text/html": [
       "<div>\n",
       "<style>\n",
       "    .dataframe thead tr:only-child th {\n",
       "        text-align: right;\n",
       "    }\n",
       "\n",
       "    .dataframe thead th {\n",
       "        text-align: left;\n",
       "    }\n",
       "\n",
       "    .dataframe tbody tr th {\n",
       "        vertical-align: top;\n",
       "    }\n",
       "</style>\n",
       "<table border=\"1\" class=\"dataframe\">\n",
       "  <thead>\n",
       "    <tr style=\"text-align: right;\">\n",
       "      <th></th>\n",
       "      <th>Page total likes</th>\n",
       "      <th>Category</th>\n",
       "      <th>Post Month</th>\n",
       "      <th>Post Weekday</th>\n",
       "      <th>Post Hour</th>\n",
       "      <th>Paid</th>\n",
       "      <th>Lifetime Post Total Reach</th>\n",
       "      <th>Lifetime Post Total Impressions</th>\n",
       "      <th>Lifetime Engaged Users</th>\n",
       "      <th>Lifetime Post Consumers</th>\n",
       "      <th>Lifetime Post Consumptions</th>\n",
       "      <th>Lifetime Post Impressions by people who have liked your Page</th>\n",
       "      <th>Lifetime Post reach by people who like your Page</th>\n",
       "      <th>Lifetime People who have liked your Page and engaged with your post</th>\n",
       "      <th>comment</th>\n",
       "      <th>like</th>\n",
       "      <th>share</th>\n",
       "      <th>Total Interactions</th>\n",
       "      <th>Type_encoded</th>\n",
       "    </tr>\n",
       "  </thead>\n",
       "  <tbody>\n",
       "    <tr>\n",
       "      <th>0</th>\n",
       "      <td>139441</td>\n",
       "      <td>2</td>\n",
       "      <td>12</td>\n",
       "      <td>4</td>\n",
       "      <td>3</td>\n",
       "      <td>0.0</td>\n",
       "      <td>2752</td>\n",
       "      <td>5091</td>\n",
       "      <td>178</td>\n",
       "      <td>109</td>\n",
       "      <td>159</td>\n",
       "      <td>3078</td>\n",
       "      <td>1640</td>\n",
       "      <td>119</td>\n",
       "      <td>4</td>\n",
       "      <td>79.0</td>\n",
       "      <td>17.0</td>\n",
       "      <td>100</td>\n",
       "      <td>2</td>\n",
       "    </tr>\n",
       "    <tr>\n",
       "      <th>1</th>\n",
       "      <td>139441</td>\n",
       "      <td>2</td>\n",
       "      <td>12</td>\n",
       "      <td>3</td>\n",
       "      <td>10</td>\n",
       "      <td>0.0</td>\n",
       "      <td>10460</td>\n",
       "      <td>19057</td>\n",
       "      <td>1457</td>\n",
       "      <td>1361</td>\n",
       "      <td>1674</td>\n",
       "      <td>11710</td>\n",
       "      <td>6112</td>\n",
       "      <td>1108</td>\n",
       "      <td>5</td>\n",
       "      <td>130.0</td>\n",
       "      <td>29.0</td>\n",
       "      <td>164</td>\n",
       "      <td>3</td>\n",
       "    </tr>\n",
       "    <tr>\n",
       "      <th>2</th>\n",
       "      <td>139441</td>\n",
       "      <td>3</td>\n",
       "      <td>12</td>\n",
       "      <td>3</td>\n",
       "      <td>3</td>\n",
       "      <td>0.0</td>\n",
       "      <td>2413</td>\n",
       "      <td>4373</td>\n",
       "      <td>177</td>\n",
       "      <td>113</td>\n",
       "      <td>154</td>\n",
       "      <td>2812</td>\n",
       "      <td>1503</td>\n",
       "      <td>132</td>\n",
       "      <td>0</td>\n",
       "      <td>66.0</td>\n",
       "      <td>14.0</td>\n",
       "      <td>80</td>\n",
       "      <td>2</td>\n",
       "    </tr>\n",
       "    <tr>\n",
       "      <th>3</th>\n",
       "      <td>139441</td>\n",
       "      <td>2</td>\n",
       "      <td>12</td>\n",
       "      <td>2</td>\n",
       "      <td>10</td>\n",
       "      <td>1.0</td>\n",
       "      <td>50128</td>\n",
       "      <td>87991</td>\n",
       "      <td>2211</td>\n",
       "      <td>790</td>\n",
       "      <td>1119</td>\n",
       "      <td>61027</td>\n",
       "      <td>32048</td>\n",
       "      <td>1386</td>\n",
       "      <td>58</td>\n",
       "      <td>1572.0</td>\n",
       "      <td>147.0</td>\n",
       "      <td>1777</td>\n",
       "      <td>2</td>\n",
       "    </tr>\n",
       "    <tr>\n",
       "      <th>4</th>\n",
       "      <td>139441</td>\n",
       "      <td>2</td>\n",
       "      <td>12</td>\n",
       "      <td>2</td>\n",
       "      <td>3</td>\n",
       "      <td>0.0</td>\n",
       "      <td>7244</td>\n",
       "      <td>13594</td>\n",
       "      <td>671</td>\n",
       "      <td>410</td>\n",
       "      <td>580</td>\n",
       "      <td>6228</td>\n",
       "      <td>3200</td>\n",
       "      <td>396</td>\n",
       "      <td>19</td>\n",
       "      <td>325.0</td>\n",
       "      <td>49.0</td>\n",
       "      <td>393</td>\n",
       "      <td>2</td>\n",
       "    </tr>\n",
       "  </tbody>\n",
       "</table>\n",
       "</div>"
      ],
      "text/plain": [
       "   Page total likes  Category  Post Month  Post Weekday  Post Hour  Paid  \\\n",
       "0            139441         2          12             4          3   0.0   \n",
       "1            139441         2          12             3         10   0.0   \n",
       "2            139441         3          12             3          3   0.0   \n",
       "3            139441         2          12             2         10   1.0   \n",
       "4            139441         2          12             2          3   0.0   \n",
       "\n",
       "   Lifetime Post Total Reach  Lifetime Post Total Impressions  \\\n",
       "0                       2752                             5091   \n",
       "1                      10460                            19057   \n",
       "2                       2413                             4373   \n",
       "3                      50128                            87991   \n",
       "4                       7244                            13594   \n",
       "\n",
       "   Lifetime Engaged Users  Lifetime Post Consumers  \\\n",
       "0                     178                      109   \n",
       "1                    1457                     1361   \n",
       "2                     177                      113   \n",
       "3                    2211                      790   \n",
       "4                     671                      410   \n",
       "\n",
       "   Lifetime Post Consumptions  \\\n",
       "0                         159   \n",
       "1                        1674   \n",
       "2                         154   \n",
       "3                        1119   \n",
       "4                         580   \n",
       "\n",
       "   Lifetime Post Impressions by people who have liked your Page  \\\n",
       "0                                               3078              \n",
       "1                                              11710              \n",
       "2                                               2812              \n",
       "3                                              61027              \n",
       "4                                               6228              \n",
       "\n",
       "   Lifetime Post reach by people who like your Page  \\\n",
       "0                                              1640   \n",
       "1                                              6112   \n",
       "2                                              1503   \n",
       "3                                             32048   \n",
       "4                                              3200   \n",
       "\n",
       "   Lifetime People who have liked your Page and engaged with your post  \\\n",
       "0                                                119                     \n",
       "1                                               1108                     \n",
       "2                                                132                     \n",
       "3                                               1386                     \n",
       "4                                                396                     \n",
       "\n",
       "   comment    like  share  Total Interactions  Type_encoded  \n",
       "0        4    79.0   17.0                 100             2  \n",
       "1        5   130.0   29.0                 164             3  \n",
       "2        0    66.0   14.0                  80             2  \n",
       "3       58  1572.0  147.0                1777             2  \n",
       "4       19   325.0   49.0                 393             2  "
      ]
     },
     "execution_count": 14,
     "metadata": {},
     "output_type": "execute_result"
    }
   ],
   "source": [
    "df.head()"
   ]
  },
  {
   "cell_type": "markdown",
   "metadata": {},
   "source": [
    "Рассмотрев имеющиеся данные следует выделить ключевые признаки, по которым можно оценить популярность объекта.  \n",
    "Я считаю, что такими ключевыми признаками популярности являются:  \n",
    "* Репосты  \n",
    "* Комментарии\n",
    "* Лайки  \n",
    "\n",
    "Так же стоит учитывать то, что эти признаки вносят неравный вклад, очевидно, что наибольший вклад будет вность количество репостов, затем, с небольшим перевесом, лайки и, наконец, комментарии (т.к. множество комментариев может оставить один аккаунт).  \n",
    "Итак, нормализуем данные по трем ключевым параметрам и разработаем функцию, вычисляющую популярность объекта, предположив, что признаки имеют следующие веса:  \n",
    "* Репосты - 0.6\n",
    "* Лайки - 0.3\n",
    "* Комментарии - 0.1"
   ]
  },
  {
   "cell_type": "code",
   "execution_count": 15,
   "metadata": {},
   "outputs": [
    {
     "name": "stderr",
     "output_type": "stream",
     "text": [
      "C:\\Users\\Gleb\\Anaconda3\\lib\\site-packages\\sklearn\\utils\\validation.py:444: DataConversionWarning: Data with input dtype int64 was converted to float64 by MinMaxScaler.\n",
      "  warnings.warn(msg, DataConversionWarning)\n"
     ]
    }
   ],
   "source": [
    "mms = MinMaxScaler()\n",
    "df['normalized_likes'] = mms.fit_transform(df.like.values.reshape(-1, 1))\n",
    "df['normalized_comments'] = mms.fit_transform(df.comment.values.reshape(-1, 1))\n",
    "df['normalized_shares'] = mms.fit_transform(df.share.values.reshape(-1, 1))"
   ]
  },
  {
   "cell_type": "code",
   "execution_count": 16,
   "metadata": {
    "collapsed": true
   },
   "outputs": [],
   "source": [
    "def evaluate(sample):\n",
    "    return sample.normalized_likes * 0.3 + sample.normalized_comments * 0.1 + sample.normalized_shares * 0.6"
   ]
  },
  {
   "cell_type": "code",
   "execution_count": 17,
   "metadata": {},
   "outputs": [
    {
     "name": "stdout",
     "output_type": "stream",
     "text": [
      "наиболее популярный пост: \n",
      "Номер поста -  244 \n",
      "Тип контента -  Photo \n",
      "\n",
      "Page total likes                                                       130791.0\n",
      "Category                                                                    2.0\n",
      "Post Month                                                                  7.0\n",
      "Post Weekday                                                                3.0\n",
      "Post Hour                                                                   5.0\n",
      "Paid                                                                        1.0\n",
      "Lifetime Post Total Reach                                              180480.0\n",
      "Lifetime Post Total Impressions                                        319133.0\n",
      "Lifetime Engaged Users                                                   8072.0\n",
      "Lifetime Post Consumers                                                  4010.0\n",
      "Lifetime Post Consumptions                                               6242.0\n",
      "Lifetime Post Impressions by people who have liked your Page           108752.0\n",
      "Lifetime Post reach by people who like your Page                        51456.0\n",
      "Lifetime People who have liked your Page and engaged with your post      3316.0\n",
      "comment                                                                   372.0\n",
      "like                                                                     5172.0\n",
      "share                                                                     790.0\n",
      "Total Interactions                                                       6334.0\n",
      "Type_encoded                                                                2.0\n",
      "normalized_likes                                                            1.0\n",
      "normalized_comments                                                         1.0\n",
      "normalized_shares                                                           1.0\n",
      "Name: 244, dtype: float64\n"
     ]
    }
   ],
   "source": [
    "result = 0\n",
    "post = 0\n",
    "for i in range(df.shape[0]):\n",
    "    mark = evaluate(df.loc[i])\n",
    "    if mark > result:\n",
    "        result = mark\n",
    "        post = i\n",
    "        \n",
    "print('наиболее популярный пост: \\n'\n",
    "     'Номер поста - ', post, '\\n'\n",
    "     'Тип контента - ', get_Type(df.loc[post].Type_encoded), '\\n')\n",
    "print(df.loc[post])"
   ]
  },
  {
   "cell_type": "markdown",
   "metadata": {},
   "source": [
    "### Итоги работы\n",
    "В ходе проведенной работы были найдены среднее, минимальное, максимальное, медиана и мода для каждого признака и для массива данных в целом. Для вычисления этих параметров для признаков была написана функция, возвращающая словарь с искомыми значениями, однако стоит учитывать то, что такие параметры, как среднее, минимум, максимум для каждого признака Dataframe можно вычислить намного проще, используя соответствующие функции библиотеки numpy и применяя их к Dataframe.  \n",
    "Также была предложена формула для оценки популярности поста, имеющая 3 слагаемых (лайки, комментарии и репосты),значения которых были нормализованы и взяты с определенными весами.  \n",
    "Для наиболее популярного поста были показаны его номер, тип контента и значения всех его признаков."
   ]
  }
 ],
 "metadata": {
  "kernelspec": {
   "display_name": "Python 3",
   "language": "python",
   "name": "python3"
  },
  "language_info": {
   "codemirror_mode": {
    "name": "ipython",
    "version": 3
   },
   "file_extension": ".py",
   "mimetype": "text/x-python",
   "name": "python",
   "nbconvert_exporter": "python",
   "pygments_lexer": "ipython3",
   "version": "3.6.2"
  }
 },
 "nbformat": 4,
 "nbformat_minor": 2
}
